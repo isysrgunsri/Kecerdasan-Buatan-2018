{
 "cells": [
  {
   "cell_type": "code",
   "execution_count": 29,
   "metadata": {},
   "outputs": [],
   "source": [
    "# DARI keras.models MENGIMPORT Sequential\n",
    "from keras.models import Sequential\n",
    "# DARI keras.layers MENGIMPORT Dense\n",
    "from keras.layers import Dense\n",
    "# MENGIMPORT numpy DENGAN VARIABEL np\n",
    "import numpy as np\n",
    "np.random.seed(7)"
   ]
  },
  {
   "cell_type": "code",
   "execution_count": 30,
   "metadata": {},
   "outputs": [],
   "source": [
    "#MENGIMPORT DATASET pima-indians-diabetes.data.csv\n",
    "dataset= np.loadtxt(\"pima-indians-diabetes.data.csv\", delimiter=\",\")\n",
    "X = dataset[:,0:8]\n",
    "Y = dataset[:,8]"
   ]
  },
  {
   "cell_type": "code",
   "execution_count": 31,
   "metadata": {},
   "outputs": [],
   "source": [
    "X = np.array(X)\n",
    "Y = np.array(Y)"
   ]
  },
  {
   "cell_type": "code",
   "execution_count": 32,
   "metadata": {},
   "outputs": [],
   "source": [
    "# DARI sklearn.preprocessing MENGIMPORT MinMaxScaler\n",
    "from sklearn.preprocessing import MinMaxScaler\n",
    "scaler = MinMaxScaler()"
   ]
  },
  {
   "cell_type": "code",
   "execution_count": 33,
   "metadata": {},
   "outputs": [],
   "source": [
    "X_scaled = scaler.fit_transform(X)"
   ]
  },
  {
   "cell_type": "code",
   "execution_count": 34,
   "metadata": {},
   "outputs": [
    {
     "data": {
      "text/plain": [
       "(768, 8)"
      ]
     },
     "execution_count": 34,
     "metadata": {},
     "output_type": "execute_result"
    }
   ],
   "source": [
    "X_scaled.shape"
   ]
  },
  {
   "cell_type": "code",
   "execution_count": 35,
   "metadata": {},
   "outputs": [],
   "source": [
    "# MENGIMPORT to_categorical DARI keras.utils\n",
    "from keras.utils import to_categorical\n",
    "Y_categorical=to_categorical(Y)"
   ]
  },
  {
   "cell_type": "code",
   "execution_count": 36,
   "metadata": {},
   "outputs": [
    {
     "data": {
      "text/plain": [
       "(768, 2)"
      ]
     },
     "execution_count": 36,
     "metadata": {},
     "output_type": "execute_result"
    }
   ],
   "source": [
    "#MENAMPILKAN Y_categorical.shape\n",
    "Y_categorical.shape"
   ]
  },
  {
   "cell_type": "code",
   "execution_count": 37,
   "metadata": {},
   "outputs": [],
   "source": [
    "#Relu Merupakan fungsi aktivasi yang digunakan pada layer ini\n",
    "model = Sequential()\n",
    "model.add(Dense(24, input_dim=8, activation='relu'))\n",
    "model.add(Dense(26, activation='relu'))\n",
    "model.add(Dense(28, activation='relu'))\n",
    "model.add(Dense(30, activation='relu'))\n",
    "model.add(Dense(2, activation='softmax'))"
   ]
  },
  {
   "cell_type": "code",
   "execution_count": 38,
   "metadata": {},
   "outputs": [
    {
     "data": {
      "text/plain": [
       "array([[  6.   , 148.   ,  72.   , ...,  33.6  ,   0.627,  50.   ],\n",
       "       [  1.   ,  85.   ,  66.   , ...,  26.6  ,   0.351,  31.   ],\n",
       "       [  8.   , 183.   ,  64.   , ...,  23.3  ,   0.672,  32.   ],\n",
       "       ...,\n",
       "       [  5.   , 121.   ,  72.   , ...,  26.2  ,   0.245,  30.   ],\n",
       "       [  1.   , 126.   ,  60.   , ...,  30.1  ,   0.349,  47.   ],\n",
       "       [  1.   ,  93.   ,  70.   , ...,  30.4  ,   0.315,  23.   ]])"
      ]
     },
     "execution_count": 38,
     "metadata": {},
     "output_type": "execute_result"
    }
   ],
   "source": [
    "#MENAMPILKAN X\n",
    "X "
   ]
  },
  {
   "cell_type": "code",
   "execution_count": 39,
   "metadata": {},
   "outputs": [],
   "source": [
    "history=model.compile(loss='categorical_crossentropy', optimizer='adam', metrics=['accuracy'])"
   ]
  },
  {
   "cell_type": "code",
   "execution_count": 40,
   "metadata": {},
   "outputs": [
    {
     "name": "stdout",
     "output_type": "stream",
     "text": [
      "Epoch 1/100\n",
      "768/768 [==============================] - 0s 469us/step - loss: 0.6468 - acc: 0.6497\n",
      "Epoch 2/100\n",
      "768/768 [==============================] - 0s 128us/step - loss: 0.5934 - acc: 0.6810\n",
      "Epoch 3/100\n",
      "768/768 [==============================] - 0s 118us/step - loss: 0.5540 - acc: 0.7148\n",
      "Epoch 4/100\n",
      "768/768 [==============================] - 0s 107us/step - loss: 0.5467 - acc: 0.7253\n",
      "Epoch 5/100\n",
      "768/768 [==============================] - 0s 114us/step - loss: 0.5193 - acc: 0.7539\n",
      "Epoch 6/100\n",
      "768/768 [==============================] - 0s 118us/step - loss: 0.5010 - acc: 0.7604\n",
      "Epoch 7/100\n",
      "768/768 [==============================] - 0s 110us/step - loss: 0.4920 - acc: 0.7513\n",
      "Epoch 8/100\n",
      "768/768 [==============================] - 0s 124us/step - loss: 0.4912 - acc: 0.7695\n",
      "Epoch 9/100\n",
      "768/768 [==============================] - 0s 101us/step - loss: 0.4936 - acc: 0.7526\n",
      "Epoch 10/100\n",
      "768/768 [==============================] - 0s 106us/step - loss: 0.4673 - acc: 0.7708\n",
      "Epoch 11/100\n",
      "768/768 [==============================] - 0s 113us/step - loss: 0.4661 - acc: 0.7773\n",
      "Epoch 12/100\n",
      "768/768 [==============================] - 0s 107us/step - loss: 0.4638 - acc: 0.7760\n",
      "Epoch 13/100\n",
      "768/768 [==============================] - 0s 108us/step - loss: 0.4674 - acc: 0.7708\n",
      "Epoch 14/100\n",
      "768/768 [==============================] - 0s 129us/step - loss: 0.4599 - acc: 0.7786\n",
      "Epoch 15/100\n",
      "768/768 [==============================] - 0s 111us/step - loss: 0.4568 - acc: 0.7826\n",
      "Epoch 16/100\n",
      "768/768 [==============================] - 0s 109us/step - loss: 0.4587 - acc: 0.7826\n",
      "Epoch 17/100\n",
      "768/768 [==============================] - 0s 106us/step - loss: 0.4478 - acc: 0.7930\n",
      "Epoch 18/100\n",
      "768/768 [==============================] - 0s 109us/step - loss: 0.4516 - acc: 0.7826\n",
      "Epoch 19/100\n",
      "768/768 [==============================] - 0s 119us/step - loss: 0.4503 - acc: 0.7812\n",
      "Epoch 20/100\n",
      "768/768 [==============================] - 0s 123us/step - loss: 0.4575 - acc: 0.7852\n",
      "Epoch 21/100\n",
      "768/768 [==============================] - 0s 107us/step - loss: 0.4521 - acc: 0.7995\n",
      "Epoch 22/100\n",
      "768/768 [==============================] - 0s 114us/step - loss: 0.4470 - acc: 0.7891\n",
      "Epoch 23/100\n",
      "768/768 [==============================] - 0s 125us/step - loss: 0.4411 - acc: 0.7956\n",
      "Epoch 24/100\n",
      "768/768 [==============================] - 0s 115us/step - loss: 0.4467 - acc: 0.7786\n",
      "Epoch 25/100\n",
      "768/768 [==============================] - 0s 108us/step - loss: 0.4396 - acc: 0.7956\n",
      "Epoch 26/100\n",
      "768/768 [==============================] - 0s 124us/step - loss: 0.4360 - acc: 0.7878\n",
      "Epoch 27/100\n",
      "768/768 [==============================] - 0s 102us/step - loss: 0.4345 - acc: 0.7982\n",
      "Epoch 28/100\n",
      "768/768 [==============================] - 0s 112us/step - loss: 0.4558 - acc: 0.7865\n",
      "Epoch 29/100\n",
      "768/768 [==============================] - 0s 106us/step - loss: 0.4425 - acc: 0.7930\n",
      "Epoch 30/100\n",
      "768/768 [==============================] - 0s 117us/step - loss: 0.4287 - acc: 0.8112\n",
      "Epoch 31/100\n",
      "768/768 [==============================] - 0s 100us/step - loss: 0.4327 - acc: 0.7943\n",
      "Epoch 32/100\n",
      "768/768 [==============================] - 0s 96us/step - loss: 0.4393 - acc: 0.7760\n",
      "Epoch 33/100\n",
      "768/768 [==============================] - 0s 118us/step - loss: 0.4318 - acc: 0.7721\n",
      "Epoch 34/100\n",
      "768/768 [==============================] - 0s 122us/step - loss: 0.4276 - acc: 0.7956\n",
      "Epoch 35/100\n",
      "768/768 [==============================] - 0s 109us/step - loss: 0.4344 - acc: 0.7917\n",
      "Epoch 36/100\n",
      "768/768 [==============================] - 0s 100us/step - loss: 0.4291 - acc: 0.8021\n",
      "Epoch 37/100\n",
      "768/768 [==============================] - 0s 125us/step - loss: 0.4238 - acc: 0.7943\n",
      "Epoch 38/100\n",
      "768/768 [==============================] - 0s 117us/step - loss: 0.4295 - acc: 0.7891\n",
      "Epoch 39/100\n",
      "768/768 [==============================] - 0s 97us/step - loss: 0.4257 - acc: 0.8073\n",
      "Epoch 40/100\n",
      "768/768 [==============================] - 0s 117us/step - loss: 0.4180 - acc: 0.8034\n",
      "Epoch 41/100\n",
      "768/768 [==============================] - 0s 104us/step - loss: 0.4270 - acc: 0.7982\n",
      "Epoch 42/100\n",
      "768/768 [==============================] - 0s 112us/step - loss: 0.4202 - acc: 0.7943\n",
      "Epoch 43/100\n",
      "768/768 [==============================] - 0s 119us/step - loss: 0.4179 - acc: 0.7982\n",
      "Epoch 44/100\n",
      "768/768 [==============================] - 0s 110us/step - loss: 0.4190 - acc: 0.8021\n",
      "Epoch 45/100\n",
      "768/768 [==============================] - 0s 115us/step - loss: 0.4184 - acc: 0.7786\n",
      "Epoch 46/100\n",
      "768/768 [==============================] - 0s 119us/step - loss: 0.4135 - acc: 0.7943\n",
      "Epoch 47/100\n",
      "768/768 [==============================] - 0s 113us/step - loss: 0.4121 - acc: 0.8008\n",
      "Epoch 48/100\n",
      "768/768 [==============================] - 0s 111us/step - loss: 0.4133 - acc: 0.8060\n",
      "Epoch 49/100\n",
      "768/768 [==============================] - 0s 128us/step - loss: 0.4146 - acc: 0.7995\n",
      "Epoch 50/100\n",
      "768/768 [==============================] - 0s 97us/step - loss: 0.4125 - acc: 0.7995\n",
      "Epoch 51/100\n",
      "768/768 [==============================] - 0s 101us/step - loss: 0.4135 - acc: 0.8086\n",
      "Epoch 52/100\n",
      "768/768 [==============================] - 0s 103us/step - loss: 0.4128 - acc: 0.8008\n",
      "Epoch 53/100\n",
      "768/768 [==============================] - 0s 113us/step - loss: 0.4102 - acc: 0.8086\n",
      "Epoch 54/100\n",
      "768/768 [==============================] - 0s 113us/step - loss: 0.4111 - acc: 0.7930\n",
      "Epoch 55/100\n",
      "768/768 [==============================] - 0s 99us/step - loss: 0.4003 - acc: 0.8151\n",
      "Epoch 56/100\n",
      "768/768 [==============================] - 0s 122us/step - loss: 0.4028 - acc: 0.8034\n",
      "Epoch 57/100\n",
      "768/768 [==============================] - 0s 121us/step - loss: 0.4028 - acc: 0.7969\n",
      "Epoch 58/100\n",
      "768/768 [==============================] - 0s 103us/step - loss: 0.4075 - acc: 0.8073\n",
      "Epoch 59/100\n",
      "768/768 [==============================] - 0s 106us/step - loss: 0.4001 - acc: 0.8203\n",
      "Epoch 60/100\n",
      "768/768 [==============================] - 0s 105us/step - loss: 0.4007 - acc: 0.8099\n",
      "Epoch 61/100\n",
      "768/768 [==============================] - 0s 112us/step - loss: 0.4128 - acc: 0.7956\n",
      "Epoch 62/100\n",
      "768/768 [==============================] - 0s 94us/step - loss: 0.4008 - acc: 0.8073\n",
      "Epoch 63/100\n",
      "768/768 [==============================] - 0s 103us/step - loss: 0.3956 - acc: 0.8164\n",
      "Epoch 64/100\n",
      "768/768 [==============================] - 0s 111us/step - loss: 0.3982 - acc: 0.8112\n",
      "Epoch 65/100\n",
      "768/768 [==============================] - 0s 100us/step - loss: 0.4015 - acc: 0.8060\n",
      "Epoch 66/100\n",
      "768/768 [==============================] - 0s 108us/step - loss: 0.4025 - acc: 0.8125\n",
      "Epoch 67/100\n",
      "768/768 [==============================] - 0s 116us/step - loss: 0.3965 - acc: 0.8138\n",
      "Epoch 68/100\n",
      "768/768 [==============================] - 0s 108us/step - loss: 0.3976 - acc: 0.8151\n",
      "Epoch 69/100\n",
      "768/768 [==============================] - 0s 99us/step - loss: 0.3991 - acc: 0.7982\n",
      "Epoch 70/100\n",
      "768/768 [==============================] - 0s 103us/step - loss: 0.3973 - acc: 0.8099\n",
      "Epoch 71/100\n",
      "768/768 [==============================] - 0s 105us/step - loss: 0.3891 - acc: 0.8190\n",
      "Epoch 72/100\n",
      "768/768 [==============================] - 0s 113us/step - loss: 0.3858 - acc: 0.8086\n",
      "Epoch 73/100\n",
      "768/768 [==============================] - 0s 117us/step - loss: 0.3906 - acc: 0.8164\n",
      "Epoch 74/100\n",
      "768/768 [==============================] - 0s 100us/step - loss: 0.3960 - acc: 0.8112\n",
      "Epoch 75/100\n",
      "768/768 [==============================] - 0s 120us/step - loss: 0.3817 - acc: 0.8164\n",
      "Epoch 76/100\n",
      "768/768 [==============================] - 0s 122us/step - loss: 0.4009 - acc: 0.8190\n",
      "Epoch 77/100\n",
      "768/768 [==============================] - 0s 119us/step - loss: 0.3909 - acc: 0.8164\n",
      "Epoch 78/100\n",
      "768/768 [==============================] - 0s 105us/step - loss: 0.3815 - acc: 0.8216\n",
      "Epoch 79/100\n",
      "768/768 [==============================] - 0s 93us/step - loss: 0.3828 - acc: 0.8281\n",
      "Epoch 80/100\n",
      "768/768 [==============================] - 0s 101us/step - loss: 0.3762 - acc: 0.8320\n",
      "Epoch 81/100\n",
      "768/768 [==============================] - 0s 99us/step - loss: 0.3868 - acc: 0.8229\n",
      "Epoch 82/100\n",
      "768/768 [==============================] - 0s 109us/step - loss: 0.3723 - acc: 0.8255\n",
      "Epoch 83/100\n"
     ]
    },
    {
     "name": "stdout",
     "output_type": "stream",
     "text": [
      "768/768 [==============================] - 0s 109us/step - loss: 0.3766 - acc: 0.8242\n",
      "Epoch 84/100\n",
      "768/768 [==============================] - 0s 101us/step - loss: 0.3772 - acc: 0.8281\n",
      "Epoch 85/100\n",
      "768/768 [==============================] - 0s 100us/step - loss: 0.3738 - acc: 0.8268\n",
      "Epoch 86/100\n",
      "768/768 [==============================] - 0s 91us/step - loss: 0.3711 - acc: 0.8164\n",
      "Epoch 87/100\n",
      "768/768 [==============================] - 0s 92us/step - loss: 0.3873 - acc: 0.8138\n",
      "Epoch 88/100\n",
      "768/768 [==============================] - 0s 95us/step - loss: 0.3746 - acc: 0.8164\n",
      "Epoch 89/100\n",
      "768/768 [==============================] - 0s 110us/step - loss: 0.3672 - acc: 0.8268\n",
      "Epoch 90/100\n",
      "768/768 [==============================] - 0s 108us/step - loss: 0.3707 - acc: 0.8281\n",
      "Epoch 91/100\n",
      "768/768 [==============================] - 0s 101us/step - loss: 0.3700 - acc: 0.8242\n",
      "Epoch 92/100\n",
      "768/768 [==============================] - 0s 95us/step - loss: 0.3592 - acc: 0.8216\n",
      "Epoch 93/100\n",
      "768/768 [==============================] - 0s 96us/step - loss: 0.3608 - acc: 0.8268\n",
      "Epoch 94/100\n",
      "768/768 [==============================] - 0s 96us/step - loss: 0.3678 - acc: 0.8359\n",
      "Epoch 95/100\n",
      "768/768 [==============================] - 0s 109us/step - loss: 0.3679 - acc: 0.8294\n",
      "Epoch 96/100\n",
      "768/768 [==============================] - 0s 110us/step - loss: 0.3586 - acc: 0.8320\n",
      "Epoch 97/100\n",
      "768/768 [==============================] - 0s 108us/step - loss: 0.3553 - acc: 0.8281\n",
      "Epoch 98/100\n",
      "768/768 [==============================] - 0s 104us/step - loss: 0.3629 - acc: 0.8229\n",
      "Epoch 99/100\n",
      "768/768 [==============================] - 0s 100us/step - loss: 0.3806 - acc: 0.8320\n",
      "Epoch 100/100\n",
      "768/768 [==============================] - 0s 96us/step - loss: 0.3582 - acc: 0.8281\n"
     ]
    }
   ],
   "source": [
    "#Epoch adalah ketika seluruh dataset sudah melalui proses training pada Neural Netwok sampai dikembalikan ke awal untuk sekali putaran \n",
    "history=model.fit(X_scaled, Y_categorical, validation_split=15, epochs=100, batch_size=10)"
   ]
  },
  {
   "cell_type": "code",
   "execution_count": 41,
   "metadata": {},
   "outputs": [],
   "source": [
    "#PREDIKSI = model.predict(X)\n",
    "predictions = model.predict(X)"
   ]
  },
  {
   "cell_type": "code",
   "execution_count": 42,
   "metadata": {},
   "outputs": [
    {
     "name": "stdout",
     "output_type": "stream",
     "text": [
      "[0.0, 0.0, 0.0, 0.0, 0.0, 0.0, 0.0, 0.0, 0.0, 0.0, 0.0, 0.0, 0.0, 0.0, 0.0, 0.0, 0.0, 0.0, 0.0, 0.0, 0.0, 0.0, 0.0, 0.0, 0.0, 0.0, 0.0, 0.0, 0.0, 0.0, 0.0, 0.0, 0.0, 0.0, 0.0, 0.0, 0.0, 0.0, 0.0, 0.0, 0.0, 0.0, 0.0, 0.0, 0.0, 0.0, 0.0, 0.0, 0.0, 0.0, 0.0, 0.0, 0.0, 0.0, 0.0, 0.0, 0.0, 0.0, 0.0, 0.0, 0.0, 0.0, 0.0, 0.0, 0.0, 0.0, 0.0, 0.0, 0.0, 0.0, 0.0, 0.0, 0.0, 0.0, 0.0, 0.0, 0.0, 0.0, 0.0, 0.0, 0.0, 0.0, 0.0, 0.0, 0.0, 0.0, 0.0, 0.0, 0.0, 0.0, 0.0, 0.0, 0.0, 0.0, 0.0, 0.0, 0.0, 0.0, 0.0, 0.0, 0.0, 0.0, 0.0, 0.0, 0.0, 0.0, 0.0, 0.0, 0.0, 0.0, 0.0, 0.0, 0.0, 0.0, 0.0, 0.0, 0.0, 0.0, 0.0, 0.0, 0.0, 0.0, 0.0, 0.0, 0.0, 0.0, 0.0, 0.0, 0.0, 0.0, 0.0, 0.0, 0.0, 0.0, 0.0, 0.0, 0.0, 0.0, 0.0, 0.0, 0.0, 0.0, 0.0, 0.0, 0.0, 0.0, 0.0, 0.0, 0.0, 0.0, 0.0, 0.0, 0.0, 0.0, 0.0, 0.0, 0.0, 0.0, 0.0, 0.0, 0.0, 0.0, 0.0, 0.0, 0.0, 0.0, 0.0, 0.0, 0.0, 0.0, 0.0, 0.0, 0.0, 0.0, 0.0, 0.0, 0.0, 0.0, 0.0, 0.0, 0.0, 0.0, 1.0, 0.0, 0.0, 0.0, 0.0, 0.0, 0.0, 0.0, 0.0, 0.0, 0.0, 0.0, 0.0, 0.0, 0.0, 0.0, 0.0, 0.0, 0.0, 0.0, 0.0, 0.0, 0.0, 0.0, 0.0, 0.0, 0.0, 0.0, 0.0, 0.0, 0.0, 0.0, 0.0, 0.0, 0.0, 0.0, 0.0, 0.0, 0.0, 0.0, 0.0, 0.0, 0.0, 0.0, 0.0, 0.0, 0.0, 0.0, 0.0, 0.0, 0.0, 0.0, 0.0, 0.0, 0.0, 0.0, 0.0, 0.0, 0.0, 0.0, 0.0, 0.0, 0.0, 0.0, 0.0, 0.0, 0.0, 0.0, 0.0, 0.0, 0.0, 0.0, 0.0, 0.0, 0.0, 0.0, 0.0, 0.0, 0.0, 0.0, 0.0, 0.0, 0.0, 0.0, 0.0, 0.0, 0.0, 0.0, 0.0, 0.0, 0.0, 0.0, 0.0, 0.0, 0.0, 0.0, 0.0, 0.0, 0.0, 0.0, 0.0, 0.0, 0.0, 0.0, 0.0, 0.0, 0.0, 0.0, 0.0, 0.0, 0.0, 0.0, 0.0, 0.0, 0.0, 0.0, 0.0, 0.0, 0.0, 0.0, 0.0, 0.0, 0.0, 0.0, 0.0, 0.0, 0.0, 0.0, 0.0, 0.0, 0.0, 0.0, 0.0, 0.0, 0.0, 0.0, 0.0, 0.0, 0.0, 0.0, 0.0, 0.0, 0.0, 0.0, 0.0, 0.0, 0.0, 0.0, 0.0, 0.0, 0.0, 0.0, 0.0, 0.0, 0.0, 0.0, 0.0, 0.0, 0.0, 0.0, 0.0, 0.0, 0.0, 0.0, 0.0, 0.0, 0.0, 1.0, 0.0, 0.0, 0.0, 0.0, 0.0, 0.0, 0.0, 0.0, 0.0, 0.0, 0.0, 0.0, 0.0, 0.0, 0.0, 0.0, 0.0, 0.0, 0.0, 0.0, 0.0, 0.0, 0.0, 0.0, 0.0, 0.0, 0.0, 0.0, 0.0, 0.0, 0.0, 0.0, 0.0, 0.0, 0.0, 0.0, 0.0, 0.0, 0.0, 0.0, 0.0, 0.0, 0.0, 0.0, 0.0, 0.0, 0.0, 0.0, 0.0, 0.0, 0.0, 0.0, 0.0, 0.0, 0.0, 0.0, 0.0, 0.0, 0.0, 0.0, 0.0, 0.0, 0.0, 0.0, 0.0, 0.0, 0.0, 0.0, 0.0, 0.0, 0.0, 0.0, 0.0, 0.0, 0.0, 0.0, 0.0, 0.0, 0.0, 0.0, 0.0, 0.0, 0.0, 0.0, 0.0, 0.0, 0.0, 0.0, 0.0, 0.0, 0.0, 0.0, 0.0, 0.0, 0.0, 0.0, 0.0, 0.0, 0.0, 0.0, 0.0, 0.0, 0.0, 0.0, 0.0, 0.0, 0.0, 0.0, 0.0, 0.0, 0.0, 0.0, 0.0, 0.0, 0.0, 0.0, 0.0, 0.0, 0.0, 0.0, 0.0, 0.0, 0.0, 0.0, 0.0, 0.0, 0.0, 0.0, 0.0, 0.0, 0.0, 0.0, 0.0, 0.0, 0.0, 0.0, 0.0, 0.0, 0.0, 0.0, 0.0, 0.0, 0.0, 0.0, 0.0, 0.0, 0.0, 0.0, 0.0, 0.0, 0.0, 0.0, 0.0, 0.0, 0.0, 0.0, 0.0, 0.0, 0.0, 0.0, 0.0, 0.0, 0.0, 0.0, 0.0, 0.0, 0.0, 0.0, 0.0, 0.0, 0.0, 0.0, 0.0, 0.0, 0.0, 0.0, 0.0, 0.0, 0.0, 0.0, 0.0, 0.0, 0.0, 0.0, 0.0, 0.0, 0.0, 0.0, 0.0, 0.0, 0.0, 0.0, 0.0, 0.0, 0.0, 0.0, 0.0, 0.0, 0.0, 0.0, 0.0, 0.0, 0.0, 0.0, 0.0, 0.0, 0.0, 0.0, 0.0, 0.0, 0.0, 0.0, 0.0, 0.0, 0.0, 0.0, 0.0, 0.0, 0.0, 0.0, 0.0, 0.0, 0.0, 0.0, 0.0, 0.0, 0.0, 0.0, 0.0, 0.0, 0.0, 0.0, 0.0, 0.0, 0.0, 0.0, 0.0, 0.0, 0.0, 0.0, 0.0, 0.0, 0.0, 0.0, 0.0, 0.0, 0.0, 0.0, 0.0, 0.0, 0.0, 0.0, 0.0, 0.0, 0.0, 0.0, 0.0, 0.0, 0.0, 0.0, 0.0, 0.0, 0.0, 0.0, 0.0, 0.0, 0.0, 0.0, 0.0, 0.0, 0.0, 0.0, 0.0, 0.0, 0.0, 0.0, 0.0, 0.0, 0.0, 0.0, 0.0, 0.0, 0.0, 0.0, 0.0, 0.0, 0.0, 0.0, 0.0, 0.0, 0.0, 0.0, 0.0, 0.0, 0.0, 0.0, 0.0, 0.0, 0.0, 0.0, 0.0, 0.0, 0.0, 0.0, 0.0, 0.0, 0.0, 0.0, 0.0, 0.0, 0.0, 0.0, 0.0, 0.0, 0.0, 0.0, 0.0, 0.0, 0.0, 0.0, 0.0, 0.0, 0.0, 0.0, 0.0, 0.0, 0.0, 0.0, 0.0, 0.0, 0.0, 0.0, 0.0, 0.0, 0.0, 0.0, 0.0, 0.0, 0.0, 0.0, 0.0, 0.0, 0.0, 0.0, 0.0, 0.0, 0.0, 0.0, 0.0, 0.0, 0.0, 0.0, 0.0, 0.0, 0.0, 0.0, 0.0, 0.0, 0.0, 0.0, 0.0, 0.0, 0.0, 0.0, 0.0, 0.0, 0.0, 0.0, 0.0, 0.0, 0.0, 0.0, 0.0, 0.0, 0.0, 0.0, 0.0, 0.0, 0.0, 0.0, 0.0, 0.0, 0.0, 0.0, 0.0, 0.0, 0.0, 0.0, 0.0, 0.0, 0.0, 0.0, 0.0, 0.0, 0.0, 0.0, 0.0, 0.0, 0.0, 0.0, 0.0, 0.0, 0.0, 0.0, 0.0, 0.0, 0.0, 0.0, 0.0, 0.0, 0.0, 0.0, 0.0, 0.0, 0.0, 0.0, 0.0, 0.0]\n"
     ]
    }
   ],
   "source": [
    "rounded = [round(x[0]) for x in predictions]\n",
    "print(rounded) #MENAMPILKAN rounded"
   ]
  },
  {
   "cell_type": "code",
   "execution_count": 43,
   "metadata": {},
   "outputs": [
    {
     "name": "stdout",
     "output_type": "stream",
     "text": [
      "768/768 [==============================] - 0s 91us/step\n",
      "\n",
      "acc: 83.59%\n"
     ]
    }
   ],
   "source": [
    "#MENAMPILKAN SKOR AKURASI\n",
    "scores = model.evaluate(X_scaled, Y_categorical)\n",
    "print(\"\\n%s: %.2f%%\" % (model.metrics_names[1], scores[1]*100))"
   ]
  },
  {
   "cell_type": "code",
   "execution_count": 44,
   "metadata": {},
   "outputs": [],
   "source": [
    "## MENGIMPORT matplotlib.pyplot SEBAGAI VARIABEL plt\n",
    "import matplotlib.pyplot as plt"
   ]
  },
  {
   "cell_type": "code",
   "execution_count": 45,
   "metadata": {},
   "outputs": [
    {
     "data": {
      "image/png": "[encoded data removed]",
      "text/plain": [
       "<Figure size 432x288 with 1 Axes>"
      ]
     },
     "metadata": {},
     "output_type": "display_data"
    }
   ],
   "source": [
    "plt.plot(history.history['acc'])\n",
    "plt.title('Model Accuracy')\n",
    "plt.ylabel('accuracy')\n",
    "plt.xlabel('epoch')\n",
    "plt.legend(['train','test'], loc='upper left')\n",
    "plt.show()"
   ]
  },
  {
   "cell_type": "code",
   "execution_count": 46,
   "metadata": {},
   "outputs": [
    {
     "name": "stdout",
     "output_type": "stream",
     "text": [
      "768/768 [==============================] - 0s 18us/step\n",
      "0.8359375\n"
     ]
    }
   ],
   "source": [
    "acc = model.evaluate(X_scaled,Y_categorical)\n",
    "print(acc[1]) #PRINT akurasi"
   ]
  },
  {
   "cell_type": "code",
   "execution_count": 47,
   "metadata": {},
   "outputs": [
    {
     "data": {
      "text/plain": [
       "array([[0.09610916, 0.90389085],\n",
       "       [0.96954143, 0.03045854],\n",
       "       [0.10471725, 0.89528275],\n",
       "       ...,\n",
       "       [0.8506605 , 0.14933953],\n",
       "       [0.22014256, 0.7798574 ],\n",
       "       [0.96923447, 0.0307655 ]], dtype=float32)"
      ]
     },
     "execution_count": 47,
     "metadata": {},
     "output_type": "execute_result"
    }
   ],
   "source": [
    "predict=model.predict(X_scaled)\n",
    "predict #MENAMPILKAN prediksi"
   ]
  },
  {
   "cell_type": "code",
   "execution_count": 48,
   "metadata": {},
   "outputs": [],
   "source": [
    "# MENGIMPORT confusion_matrix DARI sklearn.metrics\n",
    "from sklearn.metrics import confusion_matrix\n",
    "cm = confusion_matrix(Y_categorical.argmax(axis=1),predict.argmax(axis=1))"
   ]
  },
  {
   "cell_type": "code",
   "execution_count": 49,
   "metadata": {},
   "outputs": [
    {
     "data": {
      "text/plain": [
       "array([[445,  55],\n",
       "       [ 71, 197]], dtype=int64)"
      ]
     },
     "execution_count": 49,
     "metadata": {},
     "output_type": "execute_result"
    }
   ],
   "source": [
    "cm #MENAMPILKAN Confusion Matrix"
   ]
  },
  {
   "cell_type": "code",
   "execution_count": 54,
   "metadata": {},
   "outputs": [],
   "source": [
    "akurasi = ((445 + 197)/(445+71+55+197))*100 #RUMUS akurasi = (TP+TN)/(TP+FP+FN+TN)"
   ]
  },
  {
   "cell_type": "code",
   "execution_count": 55,
   "metadata": {},
   "outputs": [
    {
     "data": {
      "text/plain": [
       "83.59375"
      ]
     },
     "execution_count": 55,
     "metadata": {},
     "output_type": "execute_result"
    }
   ],
   "source": [
    "akurasi #MENAMPILKAN akurasi"
   ]
  },
  {
   "cell_type": "code",
   "execution_count": 56,
   "metadata": {},
   "outputs": [],
   "source": [
    "presisi=(445/(445+55))*100 #RUMUS presisi = TP/FP+TP"
   ]
  },
  {
   "cell_type": "code",
   "execution_count": 57,
   "metadata": {},
   "outputs": [
    {
     "data": {
      "text/plain": [
       "89.0"
      ]
     },
     "execution_count": 57,
     "metadata": {},
     "output_type": "execute_result"
    }
   ],
   "source": [
    "presisi #MENAMPILKAN presisi"
   ]
  },
  {
   "cell_type": "code",
   "execution_count": 59,
   "metadata": {},
   "outputs": [],
   "source": [
    "recall=(445/(445+55))*100 #RUMUS recall = TP/FN+TP"
   ]
  },
  {
   "cell_type": "code",
   "execution_count": 60,
   "metadata": {},
   "outputs": [
    {
     "data": {
      "text/plain": [
       "89.0"
      ]
     },
     "execution_count": 60,
     "metadata": {},
     "output_type": "execute_result"
    }
   ],
   "source": [
    "recall #MENAMPILKAN recall"
   ]
  },
  {
   "cell_type": "markdown",
   "metadata": {},
   "source": [
    "Sumber : https://www.kaggle.com/kumargh/pimaindiansdiabetescsv"
   ]
  }
 ],
 "metadata": {
  "kernelspec": {
   "display_name": "Python 3",
   "language": "python",
   "name": "python3"
  },
  "language_info": {
   "codemirror_mode": {
    "name": "ipython",
    "version": 3
   },
   "file_extension": ".py",
   "mimetype": "text/x-python",
   "name": "python",
   "nbconvert_exporter": "python",
   "pygments_lexer": "ipython3",
   "version": "3.6.5"
  }
 },
 "nbformat": 4,
 "nbformat_minor": 2
}
